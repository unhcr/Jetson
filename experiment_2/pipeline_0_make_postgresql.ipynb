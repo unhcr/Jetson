{
 "cells": [
  {
   "cell_type": "code",
   "execution_count": 1,
   "metadata": {
    "execution": {
     "iopub.execute_input": "2021-04-26T22:23:41.855903Z",
     "iopub.status.busy": "2021-04-26T22:23:41.855903Z",
     "iopub.status.idle": "2021-04-26T22:23:44.721693Z",
     "shell.execute_reply": "2021-04-26T22:23:44.721216Z",
     "shell.execute_reply.started": "2021-04-26T22:23:41.855903Z"
    }
   },
   "outputs": [],
   "source": [
    "import pandas as pd\n",
    "import geopandas as gp\n",
    "import sqlalchemy\n",
    "from sqlalchemy import create_engine\n",
    "from sqlalchemy_utils import create_database, database_exists, drop_database\n",
    "from geoalchemy2 import Geometry, WKTElement\n",
    "\n",
    "import jetson_configs as jcfg"
   ]
  },
  {
   "cell_type": "markdown",
   "metadata": {},
   "source": [
    "# Configure connection"
   ]
  },
  {
   "cell_type": "code",
   "execution_count": 2,
   "metadata": {
    "execution": {
     "iopub.execute_input": "2021-04-26T22:23:44.722692Z",
     "iopub.status.busy": "2021-04-26T22:23:44.722692Z",
     "iopub.status.idle": "2021-04-26T22:23:44.736566Z",
     "shell.execute_reply": "2021-04-26T22:23:44.736566Z",
     "shell.execute_reply.started": "2021-04-26T22:23:44.722692Z"
    }
   },
   "outputs": [],
   "source": [
    "#We supply our credentials and point to the database we're trying to connect to and\n",
    "host     = jcfg.sql_host\n",
    "user     = jcfg.sql_user\n",
    "password = jcfg.sql_password\n",
    "database = \"jetson\""
   ]
  },
  {
   "cell_type": "markdown",
   "metadata": {},
   "source": [
    "## Test connection to all databases"
   ]
  },
  {
   "cell_type": "code",
   "execution_count": 3,
   "metadata": {
    "execution": {
     "iopub.execute_input": "2021-04-26T22:23:44.737529Z",
     "iopub.status.busy": "2021-04-26T22:23:44.737529Z",
     "iopub.status.idle": "2021-04-26T22:23:44.752417Z",
     "shell.execute_reply": "2021-04-26T22:23:44.752417Z",
     "shell.execute_reply.started": "2021-04-26T22:23:44.737529Z"
    }
   },
   "outputs": [],
   "source": [
    "engine = create_engine(f'postgresql://{user}:{password}@{host}/') "
   ]
  },
  {
   "cell_type": "code",
   "execution_count": 4,
   "metadata": {
    "execution": {
     "iopub.execute_input": "2021-04-26T22:23:44.753384Z",
     "iopub.status.busy": "2021-04-26T22:23:44.753384Z",
     "iopub.status.idle": "2021-04-26T22:23:44.798906Z",
     "shell.execute_reply": "2021-04-26T22:23:44.798906Z",
     "shell.execute_reply.started": "2021-04-26T22:23:44.753384Z"
    }
   },
   "outputs": [
    {
     "data": {
      "application/javascript": [
       "\n",
       "    require(['notebook/js/codecell'], function(codecell) {\n",
       "      // https://github.com/jupyter/notebook/issues/2453\n",
       "      codecell.CodeCell.options_default.highlight_modes['magic_text/x-sql'] = {'reg':[/^%read_sql/, /.*=\\s*%read_sql/,\n",
       "                                                                                      /^%%read_sql/]};\n",
       "      Jupyter.notebook.events.one('kernel_ready.Kernel', function(){\n",
       "          console.log('BBBBB');\n",
       "          Jupyter.notebook.get_cells().map(function(cell){\n",
       "              if (cell.cell_type == 'code'){ cell.auto_highlight(); } }) ;\n",
       "      });\n",
       "    });\n",
       "    "
      ]
     },
     "metadata": {},
     "output_type": "display_data"
    }
   ],
   "source": [
    "# Load the SQL_magic extension and configure the connection\n",
    "%reload_ext sql_magic\n",
    "%config SQL.conn_name = 'engine'"
   ]
  },
  {
   "cell_type": "markdown",
   "metadata": {},
   "source": [
    "# Create new database"
   ]
  },
  {
   "cell_type": "code",
   "execution_count": 5,
   "metadata": {
    "execution": {
     "iopub.execute_input": "2021-04-26T22:23:44.799903Z",
     "iopub.status.busy": "2021-04-26T22:23:44.799903Z",
     "iopub.status.idle": "2021-04-26T22:23:44.815623Z",
     "shell.execute_reply": "2021-04-26T22:23:44.814625Z",
     "shell.execute_reply.started": "2021-04-26T22:23:44.799903Z"
    }
   },
   "outputs": [
    {
     "data": {
      "application/javascript": [
       "\n",
       "    require(['notebook/js/codecell'], function(codecell) {\n",
       "      // https://github.com/jupyter/notebook/issues/2453\n",
       "      codecell.CodeCell.options_default.highlight_modes['magic_text/x-sql'] = {'reg':[/^%read_sql/, /.*=\\s*%read_sql/,\n",
       "                                                                                      /^%%read_sql/]};\n",
       "      Jupyter.notebook.events.one('kernel_ready.Kernel', function(){\n",
       "          console.log('BBBBB');\n",
       "          Jupyter.notebook.get_cells().map(function(cell){\n",
       "              if (cell.cell_type == 'code'){ cell.auto_highlight(); } }) ;\n",
       "      });\n",
       "    });\n",
       "    "
      ]
     },
     "metadata": {},
     "output_type": "display_data"
    }
   ],
   "source": [
    "engine = create_engine(f'postgresql://{user}:{password}@{host}/{database}') \n",
    "\n",
    "# Load the SQL_magic extension and configure the connection\n",
    "%reload_ext sql_magic\n",
    "%config SQL.conn_name = 'engine'"
   ]
  },
  {
   "cell_type": "code",
   "execution_count": 6,
   "metadata": {
    "execution": {
     "iopub.execute_input": "2021-04-26T22:23:44.817843Z",
     "iopub.status.busy": "2021-04-26T22:23:44.817632Z",
     "iopub.status.idle": "2021-04-26T22:23:46.000532Z",
     "shell.execute_reply": "2021-04-26T22:23:46.000532Z",
     "shell.execute_reply.started": "2021-04-26T22:23:44.817843Z"
    }
   },
   "outputs": [],
   "source": [
    "# Clear existing data\n",
    "#'''\n",
    "if database_exists(engine.url):\n",
    "    drop_database(engine.url)\n",
    "    create_database(engine.url)\n",
    "else:\n",
    "    create_database(engine.url)\n",
    "#'''"
   ]
  },
  {
   "cell_type": "markdown",
   "metadata": {},
   "source": [
    "## Enable postgis and tablefunc"
   ]
  },
  {
   "cell_type": "code",
   "execution_count": 7,
   "metadata": {
    "execution": {
     "iopub.execute_input": "2021-04-26T22:23:46.002491Z",
     "iopub.status.busy": "2021-04-26T22:23:46.001495Z",
     "iopub.status.idle": "2021-04-26T22:23:46.873677Z",
     "shell.execute_reply": "2021-04-26T22:23:46.872679Z",
     "shell.execute_reply.started": "2021-04-26T22:23:46.002491Z"
    }
   },
   "outputs": [
    {
     "name": "stdout",
     "output_type": "stream",
     "text": [
      "Query started at 12:58:11 AM Eastern Daylight Time; Query executed in 0.01 m"
     ]
    },
    {
     "data": {
      "text/plain": [
       "<sql_magic.exceptions.EmptyResult at 0x148c5c9bf28>"
      ]
     },
     "execution_count": 7,
     "metadata": {},
     "output_type": "execute_result"
    }
   ],
   "source": [
    "%%read_sql\n",
    "CREATE EXTENSION IF NOT EXISTS POSTGIS"
   ]
  },
  {
   "cell_type": "code",
   "execution_count": 8,
   "metadata": {
    "execution": {
     "iopub.execute_input": "2021-04-26T22:23:46.874683Z",
     "iopub.status.busy": "2021-04-26T22:23:46.874683Z",
     "iopub.status.idle": "2021-04-26T22:23:46.903363Z",
     "shell.execute_reply": "2021-04-26T22:23:46.902296Z",
     "shell.execute_reply.started": "2021-04-26T22:23:46.874683Z"
    }
   },
   "outputs": [
    {
     "name": "stdout",
     "output_type": "stream",
     "text": [
      "Query started at 12:58:11 AM Eastern Daylight Time; Query executed in 0.00 m"
     ]
    },
    {
     "data": {
      "text/plain": [
       "<sql_magic.exceptions.EmptyResult at 0x148c5c80f28>"
      ]
     },
     "execution_count": 8,
     "metadata": {},
     "output_type": "execute_result"
    }
   ],
   "source": [
    "%%read_sql\n",
    "CREATE EXTENSION IF NOT EXISTS tablefunc"
   ]
  },
  {
   "cell_type": "markdown",
   "metadata": {},
   "source": [
    "## List tables"
   ]
  },
  {
   "cell_type": "code",
   "execution_count": 9,
   "metadata": {
    "execution": {
     "iopub.execute_input": "2021-04-26T22:23:46.905492Z",
     "iopub.status.busy": "2021-04-26T22:23:46.905492Z",
     "iopub.status.idle": "2021-04-26T22:23:46.950432Z",
     "shell.execute_reply": "2021-04-26T22:23:46.948502Z",
     "shell.execute_reply.started": "2021-04-26T22:23:46.905492Z"
    }
   },
   "outputs": [
    {
     "name": "stdout",
     "output_type": "stream",
     "text": [
      "Query started at 12:58:12 AM Eastern Daylight Time; Query executed in 0.00 m"
     ]
    },
    {
     "data": {
      "text/html": [
       "<div>\n",
       "<style scoped>\n",
       "    .dataframe tbody tr th:only-of-type {\n",
       "        vertical-align: middle;\n",
       "    }\n",
       "\n",
       "    .dataframe tbody tr th {\n",
       "        vertical-align: top;\n",
       "    }\n",
       "\n",
       "    .dataframe thead th {\n",
       "        text-align: right;\n",
       "    }\n",
       "</style>\n",
       "<table border=\"1\" class=\"dataframe\">\n",
       "  <thead>\n",
       "    <tr style=\"text-align: right;\">\n",
       "      <th></th>\n",
       "      <th>schemaname</th>\n",
       "      <th>tablename</th>\n",
       "      <th>tableowner</th>\n",
       "      <th>tablespace</th>\n",
       "      <th>hasindexes</th>\n",
       "      <th>hasrules</th>\n",
       "      <th>hastriggers</th>\n",
       "      <th>rowsecurity</th>\n",
       "    </tr>\n",
       "  </thead>\n",
       "  <tbody>\n",
       "    <tr>\n",
       "      <th>0</th>\n",
       "      <td>public</td>\n",
       "      <td>spatial_ref_sys</td>\n",
       "      <td>postgres</td>\n",
       "      <td>None</td>\n",
       "      <td>True</td>\n",
       "      <td>False</td>\n",
       "      <td>False</td>\n",
       "      <td>False</td>\n",
       "    </tr>\n",
       "  </tbody>\n",
       "</table>\n",
       "</div>"
      ],
      "text/plain": [
       "  schemaname        tablename tableowner tablespace  hasindexes  hasrules  \\\n",
       "0     public  spatial_ref_sys   postgres       None        True     False   \n",
       "\n",
       "   hastriggers  rowsecurity  \n",
       "0        False        False  "
      ]
     },
     "execution_count": 9,
     "metadata": {},
     "output_type": "execute_result"
    }
   ],
   "source": [
    "%%read_sql\n",
    "SELECT * FROM pg_catalog.pg_tables\n",
    "WHERE schemaname != 'pg_catalog'\n",
    "  AND schemaname != 'information_schema';"
   ]
  }
 ],
 "metadata": {
  "kernelspec": {
   "display_name": "Python 3.6",
   "language": "python",
   "name": "python3"
  },
  "language_info": {
   "codemirror_mode": {
    "name": "ipython",
    "version": 3
   },
   "file_extension": ".py",
   "mimetype": "text/x-python",
   "name": "python",
   "nbconvert_exporter": "python",
   "pygments_lexer": "ipython3",
   "version": "3.6.10"
  }
 },
 "nbformat": 4,
 "nbformat_minor": 4
}
